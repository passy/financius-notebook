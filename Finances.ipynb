{
 "metadata": {
  "kernelspec": {
   "codemirror_mode": {
    "name": "ipython",
    "version": 3
   },
   "display_name": "IPython (Python 3)",
   "language": "python",
   "name": "python3"
  },
  "name": "",
  "signature": "sha256:7714ccb7e2d245257dcbf520db11cd9c44e64d462663400297f3048f3eba7507"
 },
 "nbformat": 3,
 "nbformat_minor": 0,
 "worksheets": [
  {
   "cells": [
    {
     "cell_type": "markdown",
     "metadata": {},
     "source": [
      "Set up some basic stuff. We're expecting version 8 of the JSON format at the moment."
     ]
    },
    {
     "cell_type": "code",
     "collapsed": false,
     "input": [
      "%matplotlib inline\n",
      "\n",
      "from datetime import datetime\n",
      "\n",
      "import json\n",
      "import operator\n",
      "import numpy as np\n",
      "import pandas as pd\n",
      "import matplotlib as mpl\n",
      "\n",
      "from decimal import Decimal\n",
      "from pandas.io.json import json_normalize\n",
      "from functools import reduce\n",
      "\n",
      "mpl.rcParams['savefig.dpi'] = 2 * mpl.rcParams['savefig.dpi']\n",
      "mpl.rc('figure', figsize=(12, 10))\n",
      "\n",
      "pd.set_option('display.max_columns', 15)\n",
      "pd.set_option('display.width', 400)\n",
      "pd.set_option('display.mpl_style', 'default')"
     ],
     "language": "python",
     "metadata": {},
     "outputs": []
    },
    {
     "cell_type": "markdown",
     "metadata": {},
     "source": [
      "Set up some constants used in the JSON."
     ]
    },
    {
     "cell_type": "code",
     "collapsed": false,
     "input": [
      "TX_TYPES = {\n",
      "    'EXPENSE': 1,\n",
      "    'INCOME': 2,\n",
      "    'TRANSFER': 3\n",
      "}"
     ],
     "language": "python",
     "metadata": {},
     "outputs": []
    },
    {
     "cell_type": "code",
     "collapsed": false,
     "input": [
      "json_data = json.load(open(\"./Financius 2015-02-19 213235.json\"))\n",
      "\n",
      "# Extract all keys that we care about as separate data frames\n",
      "data = {key: json_normalize(json_data[key]) for key in ['currencies', 'categories', 'tags', 'accounts', 'transactions']}\n",
      "\n",
      "# Merge categories into transactions since they are n:1\n",
      "tx = pd.DataFrame.merge(\n",
      "    data['transactions'],\n",
      "    data['categories'],\n",
      "    how='left',\n",
      "    left_on=['category_id'],\n",
      "    right_on=['id'],\n",
      "    suffixes=('_tx', '_cat'))\n",
      "\n",
      "# Treat the date as ms timestamp and set it as index\n",
      "tx['date'] = pd.to_datetime(tx['date'], unit='ms')\n",
      "tx.index = tx['date']\n",
      "\n",
      "# Convert the amount to a float (should really be a decimal, but pandas doesn't like them atm)\n",
      "tx['amount'] = tx['amount'].apply(lambda x: x / 100)\n",
      "\n",
      "# Truncate at 2014-01-01\n",
      "tx = tx.sort().truncate(before='2014-01-01')\n",
      "tx.head()"
     ],
     "language": "python",
     "metadata": {},
     "outputs": []
    },
    {
     "cell_type": "markdown",
     "metadata": {},
     "source": [
      "Manually join the transactions with their tags."
     ]
    },
    {
     "cell_type": "code",
     "collapsed": false,
     "input": [
      "# Expand the tags into its own dataframe\n",
      "tag_df = tx['tag_ids'].apply(pd.Series)\n",
      "tag_df = tag_df.applymap(lambda x: (data['tags'][data['tags']['id'] == x].title).tolist())\n",
      "# Combine all tag columns into a list\n",
      "tag_df = tag_df.apply(lambda row: reduce(operator.add, [row[c] for c in tag_df.columns]), axis=1)\n",
      "\n",
      "# Get the tags back into the transactions df\n",
      "tx['tags'] = tag_df\n",
      "\n",
      "# Clean up some of the columns\n",
      "tx.drop([\n",
      "    'tag_ids',\n",
      "    'color',\n",
      "    'sync_state_tx',\n",
      "    'sync_state_cat',\n",
      "    'id_cat',\n",
      "    'sort_order',\n",
      "    'transaction_type_cat',\n",
      "    'model_state_tx'], axis=1, inplace=True)"
     ],
     "language": "python",
     "metadata": {},
     "outputs": []
    },
    {
     "cell_type": "markdown",
     "metadata": {},
     "source": [
      "Split up transactions by their type."
     ]
    },
    {
     "cell_type": "code",
     "collapsed": false,
     "input": [
      "# group_monthly = lambda x: x.groupby((x.index.month, x.index.year)).aggregate(np.sum)\n",
      "group_monthly = lambda x: x.groupby(pd.TimeGrouper(freq='M')).aggregate(np.sum)\n",
      "\n",
      "expenses = tx[tx['transaction_type_tx'] == TX_TYPES['EXPENSE']]\n",
      "expenses_m = group_monthly(expenses)\n",
      "incomes = tx[tx['transaction_type_tx'] == TX_TYPES['INCOME']]\n",
      "incomes_m = group_monthly(incomes)\n",
      "transfers = tx[tx['transaction_type_tx'] == TX_TYPES['TRANSFER']]\n",
      "transfers_m = group_monthly(transfers)"
     ],
     "language": "python",
     "metadata": {},
     "outputs": []
    },
    {
     "cell_type": "code",
     "collapsed": false,
     "input": [
      "p_inc = group_monthly(incomes[incomes['title'] == 'Salary'][['amount']]).rename(columns={'amount': 'Salary'}).plot()\n",
      "tag_filter = lambda name: incomes['tags'].map(lambda tags: name in tags)\n",
      "group_monthly(incomes[tag_filter('Freelancing')][['amount']]).rename(columns={'amount': 'Freelancing'}).plot(ax=p_inc)\n",
      "p_inc.set_ylabel('GBP')"
     ],
     "language": "python",
     "metadata": {},
     "outputs": []
    },
    {
     "cell_type": "heading",
     "level": 2,
     "metadata": {},
     "source": [
      "Biggest Expenses"
     ]
    },
    {
     "cell_type": "code",
     "collapsed": false,
     "input": [
      "tag_filter = lambda name: expenses['tags'].map(lambda tags: name in tags)\n",
      "non_rent_expenses = expenses[~(tag_filter('Rent and Mortgage')) & ~(tag_filter('Taxes')) & ~(tag_filter('Insurance')) & (expenses['title'] != 'Other Expense')]\n",
      "non_rent_expenses.sort('amount', ascending=False)[:20][[\"date\", \"amount\", \"title\", \"note\", \"tags\"]]"
     ],
     "language": "python",
     "metadata": {},
     "outputs": []
    },
    {
     "cell_type": "heading",
     "level": 2,
     "metadata": {},
     "source": [
      "Expenses by Category"
     ]
    },
    {
     "cell_type": "code",
     "collapsed": false,
     "input": [
      "expenses_by_category = expenses.groupby('title')['amount'].sum()\n",
      "expenses_by_category.sort()\n",
      "expenses_by_category.plot(kind='barh')"
     ],
     "language": "python",
     "metadata": {},
     "outputs": []
    },
    {
     "cell_type": "heading",
     "level": 2,
     "metadata": {},
     "source": [
      "Income vs Expenses"
     ]
    },
    {
     "cell_type": "code",
     "collapsed": false,
     "input": [
      "p_ie = group_monthly(incomes[[\"amount\"]]).rename(columns={'amount': 'Income'}).plot()\n",
      "group_monthly(expenses[[\"amount\"]]).rename(columns={'amount': 'Expenses'}).plot(ax=p_ie)\n",
      "p_ie.set_ylabel(\"GBP\")"
     ],
     "language": "python",
     "metadata": {},
     "outputs": []
    },
    {
     "cell_type": "code",
     "collapsed": false,
     "input": [
      "p = incomes_m['amount'].plot()\n",
      "expenses_m['amount'].plot(ax=p)\n",
      "\n",
      "earnings = incomes_m['amount'] - expenses_m['amount']\n",
      "earnings.plot(ax=p)\n",
      "\n",
      "p.set_ylabel('GBP')"
     ],
     "language": "python",
     "metadata": {},
     "outputs": []
    },
    {
     "cell_type": "heading",
     "level": 2,
     "metadata": {},
     "source": [
      "Earnings by Month"
     ]
    },
    {
     "cell_type": "code",
     "collapsed": false,
     "input": [
      "earnings_month_index = pd.Series(earnings.index.map(lambda x: (\"{}-{:02}\".format(x.year, x.month), earnings[x])))\n",
      "earnings_month_index\n",
      "\n",
      "# TODO: Turn this into a proper DF"
     ],
     "language": "python",
     "metadata": {},
     "outputs": []
    },
    {
     "cell_type": "heading",
     "level": 2,
     "metadata": {},
     "source": [
      "Cumulative Savings"
     ]
    },
    {
     "cell_type": "code",
     "collapsed": false,
     "input": [
      "print(earnings.sum())\n",
      "earnings.cumsum().plot()"
     ],
     "language": "python",
     "metadata": {},
     "outputs": []
    },
    {
     "cell_type": "heading",
     "level": 2,
     "metadata": {},
     "source": [
      "Category stats"
     ]
    },
    {
     "cell_type": "code",
     "collapsed": false,
     "input": [
      "expenses[~(tag_filter('Rent and Mortgage')) & (expenses['title'] != 'Other Expense')].groupby('title')['amount'].sum().plot(kind='barh', figsize=(6, 10))"
     ],
     "language": "python",
     "metadata": {},
     "outputs": []
    },
    {
     "cell_type": "heading",
     "level": 2,
     "metadata": {},
     "source": [
      "Coffee"
     ]
    },
    {
     "cell_type": "code",
     "collapsed": false,
     "input": [
      "coffee_exp = group_monthly(expenses[(expenses[\"title\"] == \"Food\") & (tag_filter(\"Coffee and Snacks\"))][[\"amount\"]])\n",
      "p = coffee_exp.plot()\n",
      "p.set_ylabel('GBP')\n",
      "p.set_xlabel('Month')\n",
      "p.axhline(coffee_exp.mean()[\"amount\"])"
     ],
     "language": "python",
     "metadata": {},
     "outputs": []
    },
    {
     "cell_type": "heading",
     "level": 2,
     "metadata": {},
     "source": [
      "Cumulative Coffee Expenses"
     ]
    },
    {
     "cell_type": "code",
     "collapsed": false,
     "input": [
      "coffee_exp[['amount']].cumsum().plot()"
     ],
     "language": "python",
     "metadata": {},
     "outputs": []
    },
    {
     "cell_type": "heading",
     "level": 2,
     "metadata": {},
     "source": [
      "Fitness"
     ]
    },
    {
     "cell_type": "code",
     "collapsed": false,
     "input": [
      "coffee_exp = group_monthly(expenses[tag_filter(\"Fitness\")])\n",
      "p = coffee_exp[['amount']].plot()\n",
      "p.set_ylabel('GBP')\n",
      "p.set_xlabel('Month')\n",
      "p.axhline(coffee_exp.mean()[\"amount\"])"
     ],
     "language": "python",
     "metadata": {},
     "outputs": []
    }
   ],
   "metadata": {}
  }
 ]
}