{
 "metadata": {
  "kernelspec": {
   "codemirror_mode": {
    "name": "ipython",
    "version": 3
   },
   "display_name": "IPython (Python 3)",
   "language": "python",
   "name": "python3"
  },
  "name": "",
  "signature": "sha256:ecb77e5f691b3c2c9e0e82d7aeea1aae290692c64e9ae8570e7e049eecffbdae"
 },
 "nbformat": 3,
 "nbformat_minor": 0,
 "worksheets": [
  {
   "cells": [
    {
     "cell_type": "markdown",
     "metadata": {},
     "source": [
      "Set up some basic stuff. We're expecting version 8 of the JSON format at the moment."
     ]
    },
    {
     "cell_type": "code",
     "collapsed": false,
     "input": [
      "%matplotlib inline\n",
      "\n",
      "from datetime import datetime\n",
      "\n",
      "import json\n",
      "import pandas as pd\n",
      "import matplotlib as mpl\n",
      "\n",
      "from decimal import Decimal\n",
      "from pandas.io.json import json_normalize\n",
      "\n",
      "\n",
      "mpl.rcParams['savefig.dpi'] = 2 * mpl.rcParams['savefig.dpi']\n",
      "mpl.rc('figure', figsize=(12, 10))\n",
      "\n",
      "pd.set_option('display.max_columns', 15)\n",
      "pd.set_option('display.width', 400)\n",
      "pd.set_option('display.mpl_style', 'default')"
     ],
     "language": "python",
     "metadata": {},
     "outputs": []
    },
    {
     "cell_type": "markdown",
     "metadata": {},
     "source": [
      "Set up some constants used in the JSON."
     ]
    },
    {
     "cell_type": "code",
     "collapsed": false,
     "input": [
      "TX_TYPES = {\n",
      "    'EXPENSE': 1,\n",
      "    'INCOME': 2,\n",
      "    'TRANSFER': 3\n",
      "}"
     ],
     "language": "python",
     "metadata": {},
     "outputs": []
    },
    {
     "cell_type": "code",
     "collapsed": false,
     "input": [
      "json_data = json.load(open(\"./Financius 2015-01-04 183014.json\"))\n",
      "\n",
      "# Extract all keys that we care about as separate data frames\n",
      "data = {key: json_normalize(json_data[key]) for key in ['currencies', 'categories', 'tags', 'accounts', 'transactions']}\n",
      "\n",
      "# Merge categories into transactions since they are n:1\n",
      "tx = pd.DataFrame.merge(\n",
      "    data['transactions'],\n",
      "    data['categories'],\n",
      "    how='left',\n",
      "    left_on=['category_id'],\n",
      "    right_on=['id'],\n",
      "    suffixes=('_tx', '_cat'))\n",
      "\n",
      "# Treat the date as ms timestamp and set it as index\n",
      "tx['date'] = pd.to_datetime(tx['date'], unit='ms')\n",
      "tx.index = tx['date']\n",
      "\n",
      "# Convert the amount to a float (should really be a decimal, but pandas doesn't like them atm)\n",
      "tx['amount'] = tx['amount'].apply(lambda x: x / 100)\n",
      "tx"
     ],
     "language": "python",
     "metadata": {},
     "outputs": []
    },
    {
     "cell_type": "markdown",
     "metadata": {},
     "source": [
      "Manually join the transactions with their tags."
     ]
    },
    {
     "cell_type": "code",
     "collapsed": false,
     "input": [
      "# Expand the tags into its own dataframe\n",
      "tag_df = tx['tag_ids'].apply(pd.Series)\n",
      "tag_df = tag_df.applymap(lambda x: (data['tags'][data['tags']['id'] == x].title).tolist())\n",
      "# TODO: Figure out how to concat all the columns/lists"
     ],
     "language": "python",
     "metadata": {},
     "outputs": []
    },
    {
     "cell_type": "markdown",
     "metadata": {},
     "source": [
      "Split up transactions by their type."
     ]
    },
    {
     "cell_type": "code",
     "collapsed": false,
     "input": [
      "expenses = tx[tx['transaction_type_tx'] == TX_TYPES['EXPENSE']]\n",
      "incomes = tx[tx['transaction_type_tx'] == TX_TYPES['INCOME']]\n",
      "transfers = tx[tx['transaction_type_tx'] == TX_TYPES['TRANSFER']]"
     ],
     "language": "python",
     "metadata": {},
     "outputs": []
    },
    {
     "cell_type": "code",
     "collapsed": false,
     "input": [
      "p_inc = incomes[incomes['Category'] == 'Salary'][[\"Amount\"]].rename(columns={'Amount': 'Salary'}).plot()\n",
      "incomes[incomes['Tags'] == 'Freelancing'][[\"Amount\"]].rename(columns={'Amount': 'Freelancing'}).plot(ax=p_inc)\n",
      "p_inc.set_ylabel(\"GBP\")"
     ],
     "language": "python",
     "metadata": {},
     "outputs": []
    },
    {
     "cell_type": "heading",
     "level": 2,
     "metadata": {},
     "source": [
      "Biggest Expenses"
     ]
    },
    {
     "cell_type": "code",
     "collapsed": false,
     "input": [
      "non_rent_expenses = expenses[(expenses['Tags'] != 'Rent and Mortgage') & (expenses['Category'] != 'Other Expense')]\n",
      "non_rent_expenses.sort('Amount', ascending=False)[:20]"
     ],
     "language": "python",
     "metadata": {},
     "outputs": []
    },
    {
     "cell_type": "heading",
     "level": 2,
     "metadata": {},
     "source": [
      "Expenses by Category"
     ]
    },
    {
     "cell_type": "code",
     "collapsed": false,
     "input": [
      "expenses_by_category = expenses.groupby('Category')['Amount'].sum()\n",
      "expenses_by_category.sort()\n",
      "expenses_by_category.plot(kind='barh')\n"
     ],
     "language": "python",
     "metadata": {},
     "outputs": []
    },
    {
     "cell_type": "heading",
     "level": 2,
     "metadata": {},
     "source": [
      "Income vs Expenses"
     ]
    },
    {
     "cell_type": "code",
     "collapsed": false,
     "input": [
      "p_ie = incomes[[\"Amount\"]].rename(columns={'Amount': 'Income'}).plot()\n",
      "expenses[[\"Amount\"]].rename(columns={'Amount': 'Expenses'}).plot(ax=p_ie)\n",
      "p_ie.set_ylabel(\"GBP\")"
     ],
     "language": "python",
     "metadata": {},
     "outputs": []
    },
    {
     "cell_type": "code",
     "collapsed": false,
     "input": [
      "incomes_by_month = incomes.groupby(lambda x: x.month)[\"Amount\"].sum()\n",
      "expenses_by_month = expenses.groupby(lambda x: x.month)[\"Amount\"].sum()\n",
      "\n",
      "p = incomes_by_month.plot()\n",
      "expenses_by_month.plot(ax=p)\n",
      "\n",
      "earnings = incomes_by_month - expenses_by_month\n",
      "earnings.plot(ax=p)\n",
      "\n",
      "p.set_ylabel('GBP')"
     ],
     "language": "python",
     "metadata": {},
     "outputs": []
    },
    {
     "cell_type": "heading",
     "level": 2,
     "metadata": {},
     "source": [
      "Cumulative Savings"
     ]
    },
    {
     "cell_type": "code",
     "collapsed": false,
     "input": [
      "print(earnings.sum())\n",
      "earnings.cumsum().plot()"
     ],
     "language": "python",
     "metadata": {},
     "outputs": []
    },
    {
     "cell_type": "heading",
     "level": 2,
     "metadata": {},
     "source": [
      "Category stats"
     ]
    },
    {
     "cell_type": "code",
     "collapsed": false,
     "input": [
      "expenses[(expenses['Tags'] != 'Rent and Mortgage') & (expenses['Category'] != 'Other Expense')].groupby('Category')['Amount'].sum().plot(kind='barh', figsize=(6, 10))"
     ],
     "language": "python",
     "metadata": {},
     "outputs": []
    },
    {
     "cell_type": "heading",
     "level": 2,
     "metadata": {},
     "source": [
      "Coffee"
     ]
    },
    {
     "cell_type": "code",
     "collapsed": false,
     "input": [
      "coffee_exp = expenses[(expenses[\"Category\"] == \"Food\") & (expenses[\"Tags\"] == \"Coffee and Snacks\")][[\"Amount\"]].groupby(lambda x: x.month).sum()\n",
      "p = coffee_exp.plot()\n",
      "p.set_ylabel('GBP')\n",
      "p.set_xlabel('Month')\n",
      "p.axhline(coffee_exp.mean()[\"Amount\"])"
     ],
     "language": "python",
     "metadata": {},
     "outputs": []
    },
    {
     "cell_type": "heading",
     "level": 2,
     "metadata": {},
     "source": [
      "Cumulative Coffee Expenses"
     ]
    },
    {
     "cell_type": "code",
     "collapsed": false,
     "input": [
      "coffee_exp[['Amount']].cumsum().plot()"
     ],
     "language": "python",
     "metadata": {},
     "outputs": []
    },
    {
     "cell_type": "heading",
     "level": 2,
     "metadata": {},
     "source": [
      "Fitness"
     ]
    },
    {
     "cell_type": "code",
     "collapsed": false,
     "input": [
      "coffee_exp = expenses[expenses[\"Tags\"] == \"Fitness\"].groupby(lambda x: x.month).sum()\n",
      "p = coffee_exp[['Amount']].plot()\n",
      "p.set_ylabel('GBP')\n",
      "p.set_xlabel('Month')\n",
      "p.axhline(coffee_exp.mean()[\"Amount\"])"
     ],
     "language": "python",
     "metadata": {},
     "outputs": []
    }
   ],
   "metadata": {}
  }
 ]
}