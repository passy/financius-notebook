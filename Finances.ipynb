{
 "cells": [
  {
   "cell_type": "markdown",
   "metadata": {},
   "source": [
    "## Setup\n",
    "\n",
    "Set up some basic stuff. We're expecting version 9 of the JSON format at the moment."
   ]
  },
  {
   "cell_type": "code",
   "execution_count": null,
   "metadata": {
    "collapsed": false
   },
   "outputs": [],
   "source": [
    "%matplotlib inline\n",
    "\n",
    "import datetime\n",
    "import json\n",
    "import operator\n",
    "import numpy as np\n",
    "import pandas as pd\n",
    "import matplotlib as mpl\n",
    "import statsmodels.api as sm\n",
    "\n",
    "from decimal import Decimal\n",
    "from pandas.io.json import json_normalize\n",
    "from functools import reduce\n",
    "\n",
    "mpl.rcParams['savefig.dpi'] = 1.5 * mpl.rcParams['savefig.dpi']\n",
    "mpl.style.use('ggplot')\n",
    "\n",
    "pd.set_option('display.max_columns', 15)\n",
    "pd.set_option('display.width', 400)"
   ]
  },
  {
   "cell_type": "markdown",
   "metadata": {},
   "source": [
    "Set up some constants used in the JSON."
   ]
  },
  {
   "cell_type": "code",
   "execution_count": null,
   "metadata": {
    "collapsed": false
   },
   "outputs": [],
   "source": [
    "TX_TYPES = {\n",
    "    'EXPENSE': 1,\n",
    "    'INCOME': 2,\n",
    "    'TRANSFER': 3\n",
    "}"
   ]
  },
  {
   "cell_type": "code",
   "execution_count": null,
   "metadata": {
    "collapsed": false
   },
   "outputs": [],
   "source": [
    "json_data = json.load(open(\"/home/jovyan/work/Financius 2016-12-26 225105.json\"))\n",
    "\n",
    "if json_data['version'] != 9:\n",
    "    raise RuntimeError(\"Unsupported Financius JSON data version {}\".format(json_data['version']))\n",
    "\n",
    "# Extract all keys that we care about as separate data frames\n",
    "data = {key: json_normalize(json_data[key]) for key in ['currencies', 'categories', 'tags', 'accounts', 'transactions']}\n",
    "\n",
    "# Merge categories into transactions since they are n:1\n",
    "tx = pd.DataFrame.merge(\n",
    "    data['transactions'],\n",
    "    data['categories'],\n",
    "    how='left',\n",
    "    left_on=['category_id'],\n",
    "    right_on=['id'],\n",
    "    suffixes=('_tx', '_cat'))\n",
    "\n",
    "# Treat the date as ms timestamp and set it as index\n",
    "tx['date'] = pd.to_datetime(tx['date'], unit='ms')\n",
    "tx.index = tx['date']\n",
    "\n",
    "# Keep the original amount\n",
    "tx['oamount'] = tx['amount']\n",
    "\n",
    "# Then normalize the 'amount' field by the exchange rate\n",
    "tx['amount'] = tx.apply(lambda row: row['oamount'] * row['exchange_rate'], axis=1)\n",
    "\n",
    "# Convert the amount to a float (should really be a decimal, but pandas doesn't like them atm)\n",
    "tx['amount'] = tx['amount'].apply(lambda x: x / 100)\n",
    "\n",
    "# Truncate at 2014-01-01\n",
    "tx = tx.sort_index().truncate(before='2014-01-01')"
   ]
  },
  {
   "cell_type": "markdown",
   "metadata": {},
   "source": [
    "Manually join the transactions with their tags."
   ]
  },
  {
   "cell_type": "code",
   "execution_count": null,
   "metadata": {
    "collapsed": false
   },
   "outputs": [],
   "source": [
    "# Expand the tags into its own dataframe\n",
    "tag_df = tx['tag_ids'].apply(pd.Series)\n",
    "tag_df = tag_df.applymap(lambda x: (data['tags'][data['tags']['id'] == x].title).tolist())\n",
    "\n",
    "# Combine all tag columns into a list\n",
    "tag_df = tag_df.apply(lambda row: reduce(operator.add, [row[c] for c in tag_df.columns]), axis=1)\n",
    "\n",
    "# Get the tags back into the transactions df\n",
    "tx['tags'] = tag_df\n",
    "\n",
    "# Clean up some of the columns\n",
    "tx.drop([\n",
    "        'tag_ids',\n",
    "        'color',\n",
    "        'sync_state_tx',\n",
    "        'sync_state_cat',\n",
    "        'id_cat',\n",
    "        'sort_order',\n",
    "        'transaction_type_cat',\n",
    "        'exchange_rate',\n",
    "        'color',\n",
    "        'model_state_cat',\n",
    "        'model_state_tx'], axis=1, inplace=True)\n",
    "tx.head(10)"
   ]
  },
  {
   "cell_type": "markdown",
   "metadata": {},
   "source": [
    "Split up transactions by their type."
   ]
  },
  {
   "cell_type": "code",
   "execution_count": null,
   "metadata": {
    "collapsed": false
   },
   "outputs": [],
   "source": [
    "# group_monthly = lambda x: x.groupby((x.index.month, x.index.year)).aggregate(np.sum)\n",
    "group_monthly = lambda x: x.groupby(pd.TimeGrouper(freq='M')).aggregate(np.sum)\n",
    "group_anually = lambda x: x.groupby(pd.TimeGrouper(freq='A')).aggregate(np.sum)\n",
    "\n",
    "\n",
    "expenses = tx[tx['transaction_type_tx'] == TX_TYPES['EXPENSE']]\n",
    "expenses_m = group_monthly(expenses)\n",
    "incomes = tx[tx['transaction_type_tx'] == TX_TYPES['INCOME']]\n",
    "incomes_m = group_monthly(incomes)\n",
    "transfers = tx[tx['transaction_type_tx'] == TX_TYPES['TRANSFER']]\n",
    "transfers_m = group_monthly(transfers)"
   ]
  },
  {
   "cell_type": "markdown",
   "metadata": {},
   "source": [
    "## Totals"
   ]
  },
  {
   "cell_type": "code",
   "execution_count": null,
   "metadata": {
    "collapsed": false
   },
   "outputs": [],
   "source": [
    "total_income = incomes['amount'].sum()\n",
    "total_expenses = expenses['amount'].sum()\n",
    "\n",
    "print(\"Total income: GBP {:.2f}\".format(total_income))\n",
    "print(\"Total expenses: GBP {:.2f}\".format(total_expenses))\n",
    "print(\"Total earnings: GBP {:.2f}\".format(total_income - total_expenses))"
   ]
  },
  {
   "cell_type": "markdown",
   "metadata": {},
   "source": [
    "## Salary"
   ]
  },
  {
   "cell_type": "code",
   "execution_count": null,
   "metadata": {
    "collapsed": false
   },
   "outputs": [],
   "source": [
    "salary_line = group_monthly(incomes[incomes['title'] == 'Salary'][['amount']]).rename(columns={'amount': 'Salary'})\n",
    "tag_filter = lambda name: incomes['tags'].map(lambda tags: name in tags)\n",
    "\n",
    "p_inc = salary_line.plot()\n",
    "p_inc.set_ylabel('GBP')\n",
    "\n",
    "group_monthly(incomes[tag_filter('Freelancing')][['amount']]).rename(columns={'amount': 'Freelancing'}).plot(ax=p_inc)\n",
    "\n",
    "# df = salary_line.reset_index()\n",
    "# pd.ols(x=df.date.map(lambda x: x.timestamp()), y=df.Salary)"
   ]
  },
  {
   "cell_type": "markdown",
   "metadata": {},
   "source": [
    "## Biggest Expenses"
   ]
  },
  {
   "cell_type": "code",
   "execution_count": null,
   "metadata": {
    "collapsed": false
   },
   "outputs": [],
   "source": [
    "tag_filter = lambda name: expenses['tags'].map(lambda tags: name in tags)\n",
    "non_rent_expenses = expenses[~(tag_filter('Rent and Mortgage')) & ~(tag_filter('Taxes')) & ~(tag_filter('Insurance')) & (expenses['title'] != 'Other Expense')]\n",
    "non_rent_expenses.sort_values('amount', ascending=False)[:20][[\"amount\", \"title\", \"note\", \"tags\"]]"
   ]
  },
  {
   "cell_type": "markdown",
   "metadata": {},
   "source": [
    "## Expenses by Category"
   ]
  },
  {
   "cell_type": "code",
   "execution_count": null,
   "metadata": {
    "collapsed": false
   },
   "outputs": [],
   "source": [
    "expenses_by_category = expenses.groupby('title')['amount'].sum()\n",
    "expenses_by_category.sort_index()\n",
    "expenses_by_category.plot(kind='barh')"
   ]
  },
  {
   "cell_type": "markdown",
   "metadata": {},
   "source": [
    "## Income vs Expenses"
   ]
  },
  {
   "cell_type": "code",
   "execution_count": null,
   "metadata": {
    "collapsed": false
   },
   "outputs": [],
   "source": [
    "p_ie = group_monthly(incomes[[\"amount\"]]).rename(columns={'amount': 'Income'}).plot()\n",
    "group_monthly(expenses[[\"amount\"]]).rename(columns={'amount': 'Expenses'}).plot(ax=p_ie)\n",
    "p_ie.set_ylabel(\"GBP\")"
   ]
  },
  {
   "cell_type": "code",
   "execution_count": null,
   "metadata": {
    "collapsed": false
   },
   "outputs": [],
   "source": [
    "p = mpl.pyplot.subplot()\n",
    "p.plot(incomes_m['amount'], label=\"income\")\n",
    "p.plot(expenses_m['amount'], label=\"expenses\")\n",
    "\n",
    "earnings = incomes_m['amount'] - expenses_m['amount']\n",
    "p.plot(earnings, label=\"earnings\")\n",
    "\n",
    "p.set_ylabel('GBP')\n",
    "p.legend(loc=0)"
   ]
  },
  {
   "cell_type": "markdown",
   "metadata": {},
   "source": [
    "## Earnings by Month"
   ]
  },
  {
   "cell_type": "code",
   "execution_count": null,
   "metadata": {
    "collapsed": false
   },
   "outputs": [],
   "source": [
    "earnings_month_index = pd.Series(earnings.index.map(lambda x: (\"{}-{:02}\".format(x.year, x.month), earnings[x])))\n",
    "earnings_month = pd.DataFrame(data=earnings_month_index.map(lambda x: x[1]))\n",
    "earnings_month.index = earnings_month_index.map(lambda x: x[0])\n",
    "\n",
    "earnings_month.rename(columns={0: 'Earnings'})"
   ]
  },
  {
   "cell_type": "markdown",
   "metadata": {},
   "source": [
    "## Cumulative Savings"
   ]
  },
  {
   "cell_type": "code",
   "execution_count": null,
   "metadata": {
    "collapsed": false
   },
   "outputs": [],
   "source": [
    "# This is really messy. No idea how to do it better though.\n",
    "\n",
    "earnings_cumsum = earnings.cumsum().to_frame()\n",
    "\n",
    "\n",
    "earnings_cumsum['date'] = mpl.dates.date2num(earnings_cumsum.index.to_pydatetime())\n",
    "model = sm.formula.ols(formula='amount ~ date', data=earnings_cumsum)\n",
    "model_f = model.fit()\n",
    "\n",
    "future_datetimes = pd.DatetimeIndex(start=earnings_cumsum.index[-1].to_datetime(), end=datetime.date(2018, 1, 1), freq='M')\n",
    "future_dates = mpl.dates.date2num(future_datetimes.to_pydatetime())\n",
    "earnings_predict = model_f.predict(pd.DataFrame({ 'date': future_dates }))\n",
    "earnings_predict_df = pd.DataFrame(data=earnings_predict, index=future_datetimes)\n",
    "\n",
    "ix = pd.DatetimeIndex(start=earnings_cumsum.index[-1].to_datetime(), end=datetime.date(2018, 1, 1), freq='M')\n",
    "earnings_cumsum = earnings_cumsum.reindex(ix)\n",
    "# earnings_cumsum.drop(['date'], axis=1).assign(trend=model_f.fittedvalues.to_frame().append(earnings_predict_df)[0]).plot()\n",
    "\n",
    "model_f.fittedvalues.to_frame().append(earnings_predict_df)[0]"
   ]
  },
  {
   "cell_type": "markdown",
   "metadata": {},
   "source": [
    "## Category stats"
   ]
  },
  {
   "cell_type": "code",
   "execution_count": null,
   "metadata": {
    "collapsed": false
   },
   "outputs": [],
   "source": [
    "expenses[~(tag_filter('Rent and Mortgage')) & (expenses['title'] != 'Other Expense')].groupby('title')['amount'].sum().plot(kind='barh', figsize=(6, 10))"
   ]
  },
  {
   "cell_type": "markdown",
   "metadata": {},
   "source": [
    "## Coffee"
   ]
  },
  {
   "cell_type": "code",
   "execution_count": null,
   "metadata": {
    "collapsed": false
   },
   "outputs": [],
   "source": [
    "coffee_exp = group_monthly(expenses[(expenses[\"title\"] == \"Food\") & (tag_filter(\"Coffee and Snacks\"))][[\"amount\"]])\n",
    "p = coffee_exp.plot()\n",
    "p.set_ylabel('GBP')\n",
    "p.set_xlabel('Month')\n",
    "p.axhline(coffee_exp.mean()[\"amount\"])"
   ]
  },
  {
   "cell_type": "markdown",
   "metadata": {},
   "source": [
    "## Cumulative Coffee Expenses"
   ]
  },
  {
   "cell_type": "code",
   "execution_count": null,
   "metadata": {
    "collapsed": false
   },
   "outputs": [],
   "source": [
    "coffee_exp[['amount']].cumsum().plot()"
   ]
  },
  {
   "cell_type": "markdown",
   "metadata": {},
   "source": [
    "## Fitness"
   ]
  },
  {
   "cell_type": "code",
   "execution_count": null,
   "metadata": {
    "collapsed": false
   },
   "outputs": [],
   "source": [
    "fitness_exp = group_monthly(expenses[expenses['title'] == 'Fitness'])\n",
    "p = fitness_exp[['amount']].plot()\n",
    "p.set_ylabel('GBP')\n",
    "p.set_xlabel('Month')\n",
    "p.axhline(fitness_exp.mean()[\"amount\"])"
   ]
  },
  {
   "cell_type": "markdown",
   "metadata": {},
   "source": [
    "## Christmas Gifts"
   ]
  },
  {
   "cell_type": "code",
   "execution_count": null,
   "metadata": {
    "collapsed": false
   },
   "outputs": [],
   "source": [
    "christmas_exp = group_anually(expenses[(expenses['title'] == 'Gifts') & (tag_filter('Christmas'))])\n",
    "christmas_exp.drop(['oamount', 'include_in_reports', 'transaction_state'], axis=1, inplace=True)\n",
    "christmas_exp.rename(columns={'transaction_type_tx': 'number'})"
   ]
  },
  {
   "cell_type": "markdown",
   "metadata": {},
   "source": [
    "# Account Value"
   ]
  },
  {
   "cell_type": "code",
   "execution_count": null,
   "metadata": {
    "collapsed": false
   },
   "outputs": [],
   "source": [
    "!pip install currencyconverter\n",
    "import currency_converter"
   ]
  },
  {
   "cell_type": "code",
   "execution_count": null,
   "metadata": {
    "collapsed": false
   },
   "outputs": [],
   "source": [
    "# You can get an update here: http://www.ecb.int/stats/eurofxref/eurofxref-hist.zip\n",
    "cc = currency_converter.CurrencyConverter('./eurofxref-hist.csv', fallback_on_missing_rate=True)\n",
    "\n",
    "\n",
    "accounts = data['accounts'].copy()\n",
    "to_usd = lambda r: cc.convert(amount=r['balance'],\n",
    "                             currency=r['currency_code'],\n",
    "                             new_currency='USD')\n",
    "\n",
    "accounts['balance'] = accounts['balance'].map(lambda x: x / 100)\n",
    "accounts['balance_usd'] = accounts.apply(to_usd, axis=1)\n",
    "\n",
    "print(\"Current account value in USD: ${:.2f}\".format(accounts['balance_usd'].sum()))"
   ]
  },
  {
   "cell_type": "markdown",
   "metadata": {},
   "source": [
    "### Historical Account Value (monthly)"
   ]
  },
  {
   "cell_type": "code",
   "execution_count": null,
   "metadata": {
    "collapsed": false
   },
   "outputs": [],
   "source": [
    "accounts = data['accounts'].copy()\n",
    "accounts['balance'] = accounts['balance'].map(lambda x: x / 100)\n",
    "\n",
    "rand = 0 # np.random.randint(low=50000, high=200000)\n",
    "\n",
    "to_usd = lambda d: lambda r: cc.convert(amount=r['balance'],\n",
    "                                       currency=r['currency_code'],\n",
    "                                       new_currency='USD',\n",
    "                                       date=d)\n",
    "\n",
    "account_sum_at_date = lambda date: accounts.apply(to_usd(date), axis=1).sum()\n",
    "\n",
    "def hist_from_range(r):\n",
    "    balance_hist = pd.DataFrame(r, columns=['date'])\n",
    "    balance_hist['balance'] = balance_hist.apply(lambda r: account_sum_at_date(r['date'].to_datetime()), axis=1) - rand\n",
    "    balance_hist['max'] = balance_hist['balance'].max()\n",
    "    balance_hist['diff'] = balance_hist['max'] - balance_hist['balance']\n",
    "    \n",
    "    return balance_hist\n",
    "\n",
    "hist_from_range(pd.date_range(start='2015-01-01', end='2016-12-23', freq='D')).set_index('date')['balance'].plot()"
   ]
  },
  {
   "cell_type": "markdown",
   "metadata": {},
   "source": [
    "### Historical Account Money Loss due to Brexit"
   ]
  },
  {
   "cell_type": "code",
   "execution_count": null,
   "metadata": {
    "collapsed": false
   },
   "outputs": [],
   "source": [
    "hist_from_range(pd.date_range(start='2016-06-10', end='2016-12-23', freq='D')).set_index('date')['diff'].plot()"
   ]
  }
 ],
 "metadata": {
  "kernelspec": {
   "display_name": "Python 3",
   "language": "python",
   "name": "python3"
  },
  "language_info": {
   "codemirror_mode": {
    "name": "ipython",
    "version": 3
   },
   "file_extension": ".py",
   "mimetype": "text/x-python",
   "name": "python",
   "nbconvert_exporter": "python",
   "pygments_lexer": "ipython3",
   "version": "3.5.1"
  },
  "widgets": {
   "state": {},
   "version": "1.1.2"
  }
 },
 "nbformat": 4,
 "nbformat_minor": 0
}
