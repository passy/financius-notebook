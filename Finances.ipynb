{
 "metadata": {
  "kernelspec": {
   "codemirror_mode": {
    "name": "ipython",
    "version": 3
   },
   "display_name": "IPython (Python 3)",
   "language": "python",
   "name": "python3"
  },
  "name": "",
  "signature": "sha256:9460de1d79f83cefc0a6352e64146eb10c3af2298d86118746157a6d0eb946c7"
 },
 "nbformat": 3,
 "nbformat_minor": 0,
 "worksheets": [
  {
   "cells": [
    {
     "cell_type": "markdown",
     "metadata": {},
     "source": [
      "Set up some basic stuff."
     ]
    },
    {
     "cell_type": "code",
     "collapsed": false,
     "input": [
      "%matplotlib inline\n",
      "\n",
      "from datetime import datetime\n",
      "\n",
      "import pandas as pd\n",
      "import matplotlib as mpl\n",
      "from decimal import Decimal\n",
      "mpl.rcParams['savefig.dpi'] = 2 * mpl.rcParams['savefig.dpi']\n",
      "mpl.rc('figure', figsize=(12, 10))\n",
      "\n",
      "pd.set_option('display.max_columns', 15)\n",
      "pd.set_option('display.width', 400)\n",
      "pd.set_option('display.mpl_style', 'default')"
     ],
     "language": "python",
     "metadata": {},
     "outputs": []
    },
    {
     "cell_type": "code",
     "collapsed": false,
     "input": [
      "TYPES = {\n",
      "    'TRANSFER': 'Transfer',\n",
      "    'EXPENSE': 'Expense',\n",
      "    'INCOME': 'Income'\n",
      "}"
     ],
     "language": "python",
     "metadata": {},
     "outputs": []
    },
    {
     "cell_type": "code",
     "collapsed": false,
     "input": [
      "NAMES = [\n",
      "    \"Time\",\n",
      "    \"Type\",\n",
      "    \"Confirmed\",\n",
      "    \"Comment\",\n",
      "    \"From\",\n",
      "    \"To\",\n",
      "    \"Category\",\n",
      "    \"Tags\",\n",
      "    \"Amount\",\n",
      "    \"Currency\",\n",
      "    \"Rate\" \n",
      "]\n",
      "\n",
      "CONVERTERS = {\n",
      "    # I don't use multiple tags, but if you do, you might want to use this.\n",
      "    # \"Tags\": lambda x: str(x).split(\",\")\n",
      "}\n",
      "\n",
      "data = pd.read_csv(\"./Financius 2014-11-15 222358.csv\", sep=\",\", names=NAMES, converters=CONVERTERS, index_col=[0, 1], parse_dates=True).sort()\n",
      "data = data.truncate(before=datetime(2014, 1, 1))\n",
      "data.head()"
     ],
     "language": "python",
     "metadata": {},
     "outputs": []
    },
    {
     "cell_type": "code",
     "collapsed": false,
     "input": [
      "expenses = data[data['Type'] == TYPES['EXPENSE']]\n",
      "incomes = data[data['Type'] == TYPES['INCOME']]\n",
      "transfers = data[data['Type'] == TYPES['TRANSFER']]"
     ],
     "language": "python",
     "metadata": {},
     "outputs": []
    },
    {
     "cell_type": "code",
     "collapsed": false,
     "input": [
      "p_inc = incomes[incomes['Category'] == 'Salary'][[\"Amount\"]].rename(columns={'Amount': 'Salary'}).plot()\n",
      "incomes[incomes['Tags'] == 'Freelancing'][[\"Amount\"]].rename(columns={'Amount': 'Freelancing'}).plot(ax=p_inc)\n",
      "p_inc.set_ylabel(\"GBP\")"
     ],
     "language": "python",
     "metadata": {},
     "outputs": []
    },
    {
     "cell_type": "heading",
     "level": 2,
     "metadata": {},
     "source": [
      "Biggest Expenses"
     ]
    },
    {
     "cell_type": "code",
     "collapsed": false,
     "input": [
      "non_rent_expenses = expenses[(expenses['Tags'] != 'Rent and Mortgage') & (expenses['Category'] != 'Other Expense')]\n",
      "non_rent_expenses.sort('Amount', ascending=False)[:20]"
     ],
     "language": "python",
     "metadata": {},
     "outputs": []
    },
    {
     "cell_type": "heading",
     "level": 2,
     "metadata": {},
     "source": [
      "Expenses by Category"
     ]
    },
    {
     "cell_type": "code",
     "collapsed": false,
     "input": [
      "expenses_by_category = expenses.groupby('Category')['Amount'].sum()\n",
      "expenses_by_category.sort()\n",
      "expenses_by_category.plot(kind='barh')\n"
     ],
     "language": "python",
     "metadata": {},
     "outputs": []
    },
    {
     "cell_type": "heading",
     "level": 2,
     "metadata": {},
     "source": [
      "Income vs Expenses"
     ]
    },
    {
     "cell_type": "code",
     "collapsed": false,
     "input": [
      "p_ie = incomes[[\"Amount\"]].rename(columns={'Amount': 'Income'}).plot()\n",
      "expenses[[\"Amount\"]].rename(columns={'Amount': 'Expenses'}).plot(ax=p_ie)\n",
      "p_ie.set_ylabel(\"GBP\")"
     ],
     "language": "python",
     "metadata": {},
     "outputs": []
    },
    {
     "cell_type": "code",
     "collapsed": false,
     "input": [
      "incomes_by_month = incomes.groupby(lambda x: x.month)[\"Amount\"].sum()\n",
      "expenses_by_month = expenses.groupby(lambda x: x.month)[\"Amount\"].sum()\n",
      "\n",
      "p = incomes_by_month.plot()\n",
      "expenses_by_month.plot(ax=p)\n",
      "\n",
      "earnings = incomes_by_month - expenses_by_month\n",
      "earnings.plot(ax=p)\n",
      "\n",
      "p.set_ylabel('GBP')"
     ],
     "language": "python",
     "metadata": {},
     "outputs": []
    },
    {
     "cell_type": "heading",
     "level": 2,
     "metadata": {},
     "source": [
      "Cumulative Savings"
     ]
    },
    {
     "cell_type": "code",
     "collapsed": false,
     "input": [
      "print(earnings.sum())\n",
      "earnings.cumsum().plot()"
     ],
     "language": "python",
     "metadata": {},
     "outputs": []
    },
    {
     "cell_type": "heading",
     "level": 2,
     "metadata": {},
     "source": [
      "Category stats"
     ]
    },
    {
     "cell_type": "code",
     "collapsed": false,
     "input": [
      "expenses[(expenses['Tags'] != 'Rent and Mortgage') & (expenses['Category'] != 'Other Expense')].groupby('Category')['Amount'].sum().plot(kind='barh', figsize=(6, 10))"
     ],
     "language": "python",
     "metadata": {},
     "outputs": []
    },
    {
     "cell_type": "heading",
     "level": 2,
     "metadata": {},
     "source": [
      "Coffee"
     ]
    },
    {
     "cell_type": "code",
     "collapsed": false,
     "input": [
      "coffee_exp = expenses[(expenses[\"Category\"] == \"Coffee and Snacks\") | (expenses[\"Tags\"] == \"Coffee and Snacks\")][[\"Amount\"]].groupby(lambda x: x.month).sum()\n",
      "p = coffee_exp.plot()\n",
      "p.set_ylabel('GBP')\n",
      "p.set_xlabel('Month')\n",
      "p.axhline(coffee_exp.mean()[\"Amount\"])"
     ],
     "language": "python",
     "metadata": {},
     "outputs": []
    },
    {
     "cell_type": "heading",
     "level": 2,
     "metadata": {},
     "source": [
      "Cumulative Coffee Expenses"
     ]
    },
    {
     "cell_type": "code",
     "collapsed": false,
     "input": [
      "coffee_exp[['Amount']].cumsum().plot()"
     ],
     "language": "python",
     "metadata": {},
     "outputs": []
    },
    {
     "cell_type": "heading",
     "level": 2,
     "metadata": {},
     "source": [
      "Fitness"
     ]
    },
    {
     "cell_type": "code",
     "collapsed": false,
     "input": [
      "coffee_exp = expenses[expenses[\"Tags\"] == \"Fitness\"].groupby(lambda x: x.month).sum()\n",
      "p = coffee_exp[['Amount']].plot()\n",
      "p.set_ylabel('GBP')\n",
      "p.set_xlabel('Month')\n",
      "p.axhline(coffee_exp.mean()[\"Amount\"])"
     ],
     "language": "python",
     "metadata": {},
     "outputs": []
    }
   ],
   "metadata": {}
  }
 ]
}